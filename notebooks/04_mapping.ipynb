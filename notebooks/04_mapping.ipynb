{
 "cells": [
  {
   "cell_type": "code",
   "execution_count": null,
   "id": "7170ce2a-45c6-4f03-88bf-395fbba1c3c6",
   "metadata": {},
   "outputs": [],
   "source": [
    "import calendar\n",
    "import os\n",
    "\n",
    "import contextily as ctx\n",
    "import geopandas as gpd\n",
    "import matplotlib.pyplot as plt\n",
    "import numpy as np\n",
    "import pandas as pd\n",
    "from matplotlib.cm import ScalarMappable\n",
    "from matplotlib.colors import Normalize"
   ]
  },
  {
   "cell_type": "code",
   "execution_count": null,
   "id": "38345ae7-e928-4bbe-845c-f58ce3148793",
   "metadata": {},
   "outputs": [],
   "source": [
    "path = '../data/tower_coords.csv'\n",
    "tower_coords = pd.read_csv(path)\n",
    "tower_coords"
   ]
  },
  {
   "cell_type": "code",
   "execution_count": null,
   "id": "7ba15ac7-f898-4d24-83b1-06b7a47972fe",
   "metadata": {},
   "outputs": [],
   "source": [
    "mk_theilsen_results = pd.read_csv('../eda_results/mk_theilsen_results.csv')\n",
    "mk_theilsen_results['tower'] = mk_theilsen_results['tower_variable_height'].apply(lambda x: x.split('_')[0])\n",
    "mkts_coords = pd.merge(left=mk_theilsen_results, right=tower_coords, on='tower', how='left')\n",
    "mkts_gdf = gpd.GeoDataFrame(mkts_coords, geometry=gpd.points_from_xy(x=mkts_coords['lon'], y=mkts_coords['lat'], crs='EPSG:4326'))\n",
    "mkts_gdf"
   ]
  },
  {
   "cell_type": "markdown",
   "id": "d92c681e-2578-4cb0-a80b-6c57655327ef",
   "metadata": {},
   "source": [
    "# Monthly Sens's slope per tower"
   ]
  },
  {
   "cell_type": "code",
   "execution_count": null,
   "id": "2d1f3c56-a529-4641-a107-0b54c17318f8",
   "metadata": {},
   "outputs": [],
   "source": [
    "# Create a 'variable' & 'height' column by extracting from 'tower_variable_height'\n",
    "mkts_gdf['variable'] = mkts_gdf['tower_variable_height'].apply(lambda x: '_'.join(x.split('_')[1:-1]))\n",
    "mkts_gdf['height'] = mkts_gdf['tower_variable_height'].apply(lambda x: int(x.split('_')[-1][:-1]))  # Extract numeric height\n",
    "\n",
    "# Define a base vertical separation factor\n",
    "vertical_sep_factor = 0.0035  # Increase this factor for more vertical separation\n",
    "\n",
    "# Define map bounds\n",
    "lon_min_global, lat_min_global, lon_max_global, lat_max_global = mkts_gdf.total_bounds\n",
    "\n",
    "# Iterate over each unique combination of variable and month\n",
    "for (variable, month), group in mkts_gdf.groupby(['variable', 'month']):\n",
    "    \n",
    "    fig, ax = plt.subplots(figsize=(10, 10))\n",
    "\n",
    "    # Normalize the Sens slope values to map to colors\n",
    "    norm = Normalize(vmin=-0.001, vmax=0.001)\n",
    "    cmap = plt.get_cmap('jet')  # Use a diverging colormap\n",
    "\n",
    "    # Create a color bar based on Sens slope values\n",
    "    sm = ScalarMappable(cmap=cmap, norm=norm)\n",
    "    sm.set_array([])  # Necessary to create a colorbar\n",
    "    fig.colorbar(sm, ax=ax, label='Sens Slope')\n",
    "\n",
    "    # Calculate bubble sizes based on the absolute value of Sens slope\n",
    "    bubble_sizes = np.abs(group['sens_slope']) * 1000000  # Bubble size proportional to slope\n",
    "\n",
    "    # Group by tower within each variable-month group\n",
    "    for tower, tower_group in group.groupby('tower'):\n",
    "        # Sort by height (ascending) for each tower\n",
    "        tower_group = tower_group.sort_values(by='height')\n",
    "\n",
    "        # Initialize a cumulative y-offset tracker\n",
    "        cumulative_y_offset = 0.0\n",
    "        \n",
    "        # Plot each point with consistent vertical separation\n",
    "        for idx, (x, y, size, label, height, sens_slope) in enumerate(zip(tower_group['lon'], tower_group['lat'], \n",
    "                                                                         bubble_sizes.loc[tower_group.index], \n",
    "                                                                         tower_group['tower'], tower_group['height'], tower_group['sens_slope'])):\n",
    "            radius = np.sqrt(size / np.pi) * 0.00001  # Calculate radius from bubble size\n",
    "\n",
    "            # Apply cumulative y-offset based on the bubble size\n",
    "            if idx == 0:\n",
    "                jittered_y = y  # No offset for the first bubble\n",
    "            else:\n",
    "                # Apply vertical separation based on previous bubble's radius\n",
    "                cumulative_y_offset += (radius * 2.5) + vertical_sep_factor\n",
    "                jittered_y = y + cumulative_y_offset\n",
    "\n",
    "            # Plot the bubble at the (possibly jittered) y-coordinate, color by Sens slope\n",
    "            ax.scatter(x, jittered_y, s=size, color=cmap(norm(sens_slope)), alpha=0.7, zorder=2)\n",
    "\n",
    "            # Plot black center dots to differentiate\n",
    "            ax.scatter(x, jittered_y, s=5, c='black', zorder=3)\n",
    "\n",
    "            # Add a text offset separately from the bubble size\n",
    "            text_offset = radius * 30  # Ensure sufficient space between the bubble and the label\n",
    "            ax.text(x + text_offset, jittered_y, f\"{label} ({height}m)\", fontsize=11, ha='left', va='center', color='black', zorder=5)\n",
    "\n",
    "    # Adjust x and y limits with a fixed zoom-out factor for consistent padding\n",
    "    lon_min, lat_min, lon_max, lat_max = group.total_bounds\n",
    "    zoom_out_factor = 0.003\n",
    "\n",
    "    # Set the same x and y limits for every plot based on global min and max\n",
    "    ax.set_xlim([lon_min_global - 0.01, lon_max_global + 0.02])  # Add extra space for text\n",
    "    ax.set_ylim([lat_min_global - 0.01, lat_max_global + 0.01])  # Add extra space for bubbles\n",
    "\n",
    "    # Add basemap as the bottom layer (zorder 1)\n",
    "    ctx.add_basemap(ax, crs=group.crs.to_string(), source=ctx.providers.Esri.WorldTopoMap, zorder=1, attribution=False, reset_extent=True, zoom=15)\n",
    "    \n",
    "    # Convert month number to month name\n",
    "    month_name = calendar.month_name[month]\n",
    "\n",
    "    # Hide axis labels\n",
    "    ax.set_axis_off()\n",
    "\n",
    "    # Save or display the plot\n",
    "    fig.title(f'{variable} {month_name}')\n",
    "    \n",
    "    # save figure with bbox_inches='tight' to ensure everything, including the legend, is included\n",
    "    save_path = f'../graphics/maps/{variable}_{month_name}_sens.png'\n",
    "    directory = os.path.dirname(save_path)\n",
    "    if not os.path.exists(directory):\n",
    "        os.makedirs(directory)\n",
    "    print(f'Saving image to {save_path}')\n",
    "    \n",
    "    # Save figure with bbox_inches='tight'\n",
    "    fig.savefig(save_path, bbox_inches='tight')\n",
    "    plt.close(fig)\n",
    "    # plt.savefig(f'{variable}_{month_name}_bubble.png', bbox_inches='tight')  # Uncomment to save each plot"
   ]
  },
  {
   "cell_type": "code",
   "execution_count": null,
   "id": "8a46ea59-b175-4827-b62a-aae3b239cd52",
   "metadata": {},
   "outputs": [],
   "source": [
    "unique_geometry_df = mkts_gdf.drop_duplicates(subset='geometry', keep='first')\n",
    "unique_geometry_df['tower'] = unique_geometry_df['tower_variable_height'].apply(lambda x: x.split('_')[0])\n",
    "geom_df = unique_geometry_df[['tower', 'geometry']]"
   ]
  },
  {
   "cell_type": "markdown",
   "id": "223bca30-4de3-42b3-8a6d-2cbf898cadbb",
   "metadata": {},
   "source": [
    "# Tower locations"
   ]
  },
  {
   "cell_type": "code",
   "execution_count": null,
   "id": "7d86c7a5-2820-446f-a44e-ff83cf8572a4",
   "metadata": {},
   "outputs": [],
   "source": [
    "# Define map bounds\n",
    "lon_min_global, lat_min_global, lon_max_global, lat_max_global = geom_df.total_bounds\n",
    "\n",
    "# Iterate over each unique combination of variable and month\n",
    "ax = geom_df.plot(figsize=(10, 10), color='red', marker='^', markersize=50, )\n",
    "\n",
    "# Add basemap as the bottom layer (zorder 1)\n",
    "ctx.add_basemap(ax, crs=geom_df.crs.to_string(), source=ctx.providers.Esri.WorldTopoMap, attribution='')\n",
    "for x, y, label in zip(geom_df.geometry.x, geom_df.geometry.y, geom_df.tower):\n",
    "    ax.annotate(label, xy=(x, y + 0.002), va='top', ha='center')"
   ]
  }
 ],
 "metadata": {
  "kernelspec": {
   "display_name": "Python 3 (ipykernel)",
   "language": "python",
   "name": "python3"
  },
  "language_info": {
   "codemirror_mode": {
    "name": "ipython",
    "version": 3
   },
   "file_extension": ".py",
   "mimetype": "text/x-python",
   "name": "python",
   "nbconvert_exporter": "python",
   "pygments_lexer": "ipython3",
   "version": "3.12.4"
  }
 },
 "nbformat": 4,
 "nbformat_minor": 5
}
